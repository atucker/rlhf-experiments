{
 "cells": [
  {
   "cell_type": "code",
   "execution_count": 5,
   "metadata": {},
   "outputs": [],
   "source": [
    "from datasets import load_dataset\n",
    "\n",
    "ds = load_dataset(\"vwxyzjn/summarize_from_feedback_tldr_3_filtered_oai_preprocessing_1706381144\")"
   ]
  },
  {
   "cell_type": "code",
   "execution_count": 4,
   "metadata": {},
   "outputs": [
    {
     "data": {
      "text/plain": [
       "Dataset({\n",
       "    features: ['info', 'summaries', 'choice', 'worker', 'batch', 'split', 'extra', 'query_token', 'query', 'chosen', 'chosen_token', 'chosen_token_len', 'rejected', 'rejected_token', 'rejected_token_len', 'chosen_policy', 'rejected_policy', 'policies', 'query_chosen', 'query_chosen_token', 'query_chosen_token_len', 'query_rejected', 'query_rejected_token', 'query_rejected_token_len', 'query_token_len', 'query_chosen_token_response_label', 'query_rejected_token_response_label'],\n",
       "    num_rows: 92858\n",
       "})"
      ]
     },
     "execution_count": 4,
     "metadata": {},
     "output_type": "execute_result"
    }
   ],
   "source": [
    "ds[\"train\"]"
   ]
  }
 ],
 "metadata": {
  "kernelspec": {
   "display_name": "base",
   "language": "python",
   "name": "python3"
  },
  "language_info": {
   "codemirror_mode": {
    "name": "ipython",
    "version": 3
   },
   "file_extension": ".py",
   "mimetype": "text/x-python",
   "name": "python",
   "nbconvert_exporter": "python",
   "pygments_lexer": "ipython3",
   "version": "3.10.13"
  }
 },
 "nbformat": 4,
 "nbformat_minor": 2
}
