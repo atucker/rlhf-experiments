{
 "cells": [
  {
   "cell_type": "code",
   "execution_count": 2,
   "metadata": {},
   "outputs": [
    {
     "name": "stderr",
     "output_type": "stream",
     "text": [
      "/opt/conda/lib/python3.11/site-packages/tqdm/auto.py:21: TqdmWarning: IProgress not found. Please update jupyter and ipywidgets. See https://ipywidgets.readthedocs.io/en/stable/user_install.html\n",
      "  from .autonotebook import tqdm as notebook_tqdm\n"
     ]
    }
   ],
   "source": [
    "from datasets import load_dataset\n",
    "uf = load_dataset(\"openbmb/UltraFeedback\", split = \"train\")"
   ]
  },
  {
   "cell_type": "code",
   "execution_count": 3,
   "metadata": {},
   "outputs": [],
   "source": [
    "from transformers import AutoTokenizer\n",
    "tokenizer = AutoTokenizer.from_pretrained(\n",
    "    \"neuralmagic/Meta-Llama-3-8B-Instruct-quantized.w8a16\",\n",
    "    padding_side=\"right\",\n",
    "    trust_remote_code=True,\n",
    ")"
   ]
  },
  {
   "cell_type": "code",
   "execution_count": 4,
   "metadata": {},
   "outputs": [
    {
     "name": "stderr",
     "output_type": "stream",
     "text": [
      "100%|██████████| 63967/63967 [00:19<00:00, 3269.88it/s]\n"
     ]
    }
   ],
   "source": [
    "# get distribution of text lengths\n",
    "from tqdm import tqdm, trange\n",
    "length_iter = map(lambda x: len(tokenizer(x)[\"input_ids\"]), uf[\"instruction\"])\n",
    "lengths = []\n",
    "for elem in tqdm(length_iter, total=len(uf)):\n",
    "    lengths.append(elem)"
   ]
  },
  {
   "cell_type": "code",
   "execution_count": 5,
   "metadata": {},
   "outputs": [
    {
     "data": {
      "text/plain": [
       "<Axes: ylabel='Count'>"
      ]
     },
     "execution_count": 5,
     "metadata": {},
     "output_type": "execute_result"
    },
    {
     "data": {
      "image/png": "[encoded data removed]",
      "text/plain": [
       "<Figure size 640x480 with 1 Axes>"
      ]
     },
     "metadata": {},
     "output_type": "display_data"
    }
   ],
   "source": [
    "import seaborn as sns\n",
    "import matplotlib.pyplot as plt\n",
    "\n",
    "sns.histplot(lengths, bins=100, kde = True)"
   ]
  },
  {
   "cell_type": "code",
   "execution_count": 16,
   "metadata": {},
   "outputs": [
    {
     "data": {
      "text/plain": [
       "np.float64(230.0)"
      ]
     },
     "execution_count": 16,
     "metadata": {},
     "output_type": "execute_result"
    }
   ],
   "source": [
    "import numpy as np\n",
    "np.percentile(lengths, 80)"
   ]
  },
  {
   "cell_type": "code",
   "execution_count": 10,
   "metadata": {},
   "outputs": [],
   "source": [
    "long_idxs = [i for i, x in enumerate(lengths) if x > 512]"
   ]
  },
  {
   "cell_type": "code",
   "execution_count": 14,
   "metadata": {},
   "outputs": [
    {
     "name": "stdout",
     "output_type": "stream",
     "text": [
      "Can you summarize the difference between pull and push advertising and explain which approach may be more suitable for a particular product or service?\n",
      "Generate according to: You will save yourself a considerable amount of time and money if you first determine your product’s (or service’s) suitability for \"pull\" and \"push\" advertising.\n",
      "Pull advertising is geared to draw visitors to your website when they are actively seeking your product or service. Prime examples of pull advertising are search engine optimization, cost per click search engines, directory listings, yellow page ads, and shopping portals such as mySimon and DealTime.\n",
      "Push advertising refers to all efforts to get the word out to an entire group of potential customers in order to hit the few that many be currently interested in your product or service. Most traditional offline advertising efforts (magazine, billboard, newspaper, tv, classifieds, etc) as well as online banners ads and email broadcasts are considered push marketing.\n",
      "Understanding which approach is best suited for your product should become the cornerstone of your advertising strategy.\n",
      "Take as an example the results of our wine accessories company (not wine, but accessories like corkscrews and wine glasses). Each of our push advertising efforts failed. We have tried ads in targeted magazine, opt-in email campaigns, banner campaigns at wine industry websites, ads in gourmet website newsletters, you name it. We have yet to receive a response (measured in customer orders) to justify the cost.\n",
      "It all comes down to the fact that as much as we would like to think so, people don't really need $50 Austrian crystal wine glasses. There are simply too many product and vendor substitutes to command the purchase of even avid wine drinkers.\n",
      "Pull advertising, on the other hand, has been extremely effective at acquiring profitable traffic. When someone does a search online for terms such as “wine decanters” we have found that these people are ready and willing to spend money the very first time they visit our site.\n",
      "If you are fortunate enough to sell a product or service that falls into the ‘need’ or ‘unique’ category you may be able to take advantage of all of the push and pull media outlets available to your industry. Your job will be to simply find which advertising channels offer you the best return on investment.\n",
      "Be realistic and objective about your product. In order for small company push marketing to be effective you must be selling either a universally desired or a truly unique product.\n",
      "Is your product or service so desired or unique that by simply introducing it to your audience you will be able to acquire a sale? If not, you should work to maximize your exposure in every single pull advertising vehicle. You may grow a little slower than you would prefer, but slow profitable growth is always better than going out of business while waiting for an ad campaign to pay off.\n",
      "Please feel free to publish this article and resource box in your ezine, newsletter, offline publication or website. A copy would be appreciated at mailto: info@lessonsfromthefront.com.\n",
      "Henry Coleman is an experienced entrepreneur and the primary author of Lessons From The Front - A Practical Guide to Starting & Growing Your Internet Business. Visit http://lessonsfromthefront.com to get an inside look at how you can build a real business from the ground up.\n"
     ]
    }
   ],
   "source": [
    "print(uf[\"instruction\"][long_idxs[-1]])"
   ]
  }
 ],
 "metadata": {
  "kernelspec": {
   "display_name": "base",
   "language": "python",
   "name": "python3"
  },
  "language_info": {
   "codemirror_mode": {
    "name": "ipython",
    "version": 3
   },
   "file_extension": ".py",
   "mimetype": "text/x-python",
   "name": "python",
   "nbconvert_exporter": "python",
   "pygments_lexer": "ipython3",
   "version": "3.11.9"
  }
 },
 "nbformat": 4,
 "nbformat_minor": 2
}
